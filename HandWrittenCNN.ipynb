{
 "cells": [
  {
   "cell_type": "code",
   "execution_count": 12,
   "id": "98ee55c1",
   "metadata": {},
   "outputs": [],
   "source": [
    "import pandas as pd\n",
    "import numpy as np\n",
    "from scipy import stats\n",
    "import matplotlib.pyplot as plt\n",
    "from keras.models import Sequential\n",
    "from keras.layers import Activation, Dense, Conv2D, MaxPooling2D, Flatten\n",
    "from sklearn.model_selection import train_test_split\n",
    "from tensorflow import keras\n",
    "from tensorflow.keras.utils import to_categorical"
   ]
  },
  {
   "cell_type": "code",
   "execution_count": 16,
   "id": "8344a925",
   "metadata": {},
   "outputs": [],
   "source": [
    "(train_x,train_y), (test_x,test_y) = keras.datasets.mnist.load_data()"
   ]
  },
  {
   "cell_type": "code",
   "execution_count": 17,
   "id": "db3216c0",
   "metadata": {},
   "outputs": [],
   "source": [
    "train_x = train_x[0:1000]\n",
    "train_y = train_y[0:1000]\n",
    "test_x = test_x[0:1000]\n",
    "test_y = test_y[0:1000]"
   ]
  },
  {
   "cell_type": "code",
   "execution_count": 18,
   "id": "30f2ac90",
   "metadata": {
    "scrolled": true
   },
   "outputs": [
    {
     "data": {
      "text/plain": [
       "<matplotlib.image.AxesImage at 0x1452f38edf0>"
      ]
     },
     "execution_count": 18,
     "metadata": {},
     "output_type": "execute_result"
    },
    {
     "data": {
      "image/png": "[encoded data removed]",
      "text/plain": [
       "<Figure size 288x288 with 1 Axes>"
      ]
     },
     "metadata": {
      "needs_background": "light"
     },
     "output_type": "display_data"
    }
   ],
   "source": [
    "plt.matshow(train_x[0], cmap='gray')"
   ]
  },
  {
   "cell_type": "code",
   "execution_count": 19,
   "id": "914ddd26",
   "metadata": {},
   "outputs": [],
   "source": [
    "train_x = train_x.reshape(train_x.shape[0],train_x.shape[1],train_x.shape[2],1)\n",
    "test_x = test_x.reshape(test_x.shape[0],test_x.shape[1],test_x.shape[2],1)"
   ]
  },
  {
   "cell_type": "code",
   "execution_count": 20,
   "id": "a37c0b75",
   "metadata": {},
   "outputs": [],
   "source": [
    "train_x = train_x.astype('float32')"
   ]
  },
  {
   "cell_type": "code",
   "execution_count": 21,
   "id": "28cf9650",
   "metadata": {},
   "outputs": [],
   "source": [
    "test_x = test_x.astype('float32')"
   ]
  },
  {
   "cell_type": "code",
   "execution_count": 22,
   "id": "b64faf84",
   "metadata": {},
   "outputs": [],
   "source": [
    "train_x = train_x/255\n",
    "test_x = test_x/255"
   ]
  },
  {
   "cell_type": "code",
   "execution_count": 23,
   "id": "667bafa1",
   "metadata": {},
   "outputs": [],
   "source": [
    "train_y = to_categorical(train_y)"
   ]
  },
  {
   "cell_type": "code",
   "execution_count": 24,
   "id": "a5e5929a",
   "metadata": {},
   "outputs": [],
   "source": [
    "test_y = to_categorical(test_y)"
   ]
  },
  {
   "cell_type": "code",
   "execution_count": 40,
   "id": "81f898c1",
   "metadata": {},
   "outputs": [],
   "source": [
    "model = Sequential()\n",
    "model.add(Conv2D(32, (3,3), activation=\"relu\",input_shape=(28,28,1)))#input\n",
    "#model.add(Dense(30,input_shape=(28,28,1)))\n",
    "model.add(MaxPooling2D((2,2)))#64\n",
    "model.add(Conv2D(64, (3, 3), activation=\"relu\"))\n",
    "model.add(MaxPooling2D((2, 2)))\n",
    "model.add(Flatten())\n",
    "model.add(Dense(64,activation='relu'))\n",
    "model.add(Dense(10,activation='softmax'))\n",
    "\n",
    "model.compile(loss='categorical_crossentropy',optimizer='adam',metrics=['accuracy'])"
   ]
  },
  {
   "cell_type": "code",
   "execution_count": 38,
   "id": "5728f207",
   "metadata": {
    "scrolled": false
   },
   "outputs": [
    {
     "name": "stdout",
     "output_type": "stream",
     "text": [
      "Epoch 1/15\n",
      "32/32 [==============================] - 7s 171ms/step - loss: 1.5408 - accuracy: 0.5620\n",
      "Epoch 2/15\n",
      "32/32 [==============================] - 2s 50ms/step - loss: 0.5613 - accuracy: 0.8310\n",
      "Epoch 3/15\n",
      "32/32 [==============================] - 2s 50ms/step - loss: 0.3634 - accuracy: 0.8870\n",
      "Epoch 4/15\n",
      "32/32 [==============================] - 2s 55ms/step - loss: 0.2579 - accuracy: 0.9240\n",
      "Epoch 5/15\n",
      "32/32 [==============================] - 4s 136ms/step - loss: 0.1972 - accuracy: 0.9550\n",
      "Epoch 6/15\n",
      "32/32 [==============================] - 2s 49ms/step - loss: 0.1406 - accuracy: 0.9620\n",
      "Epoch 7/15\n",
      "32/32 [==============================] - 2s 54ms/step - loss: 0.1340 - accuracy: 0.9560\n",
      "Epoch 8/15\n",
      "32/32 [==============================] - 2s 54ms/step - loss: 0.0824 - accuracy: 0.9870\n",
      "Epoch 9/15\n",
      "32/32 [==============================] - 5s 169ms/step - loss: 0.0497 - accuracy: 0.9900\n",
      "Epoch 10/15\n",
      "32/32 [==============================] - 2s 54ms/step - loss: 0.0333 - accuracy: 0.9940\n",
      "Epoch 11/15\n",
      "32/32 [==============================] - 2s 56ms/step - loss: 0.0301 - accuracy: 0.9930\n",
      "Epoch 12/15\n",
      "32/32 [==============================] - 2s 58ms/step - loss: 0.0231 - accuracy: 0.9970\n",
      "Epoch 13/15\n",
      "32/32 [==============================] - 5s 154ms/step - loss: 0.0117 - accuracy: 0.9990\n",
      "Epoch 14/15\n",
      "32/32 [==============================] - 2s 61ms/step - loss: 0.0108 - accuracy: 0.9970\n",
      "Epoch 15/15\n",
      "32/32 [==============================] - 2s 61ms/step - loss: 0.0082 - accuracy: 1.0000\n"
     ]
    },
    {
     "data": {
      "text/plain": [
       "<keras.callbacks.History at 0x14563236280>"
      ]
     },
     "execution_count": 38,
     "metadata": {},
     "output_type": "execute_result"
    }
   ],
   "source": [
    "model.fit(train_x,train_y,epochs=15)"
   ]
  },
  {
   "cell_type": "code",
   "execution_count": 29,
   "id": "d513ae7f",
   "metadata": {},
   "outputs": [
    {
     "name": "stdout",
     "output_type": "stream",
     "text": [
      "32/32 [==============================] - 1s 11ms/step - loss: 0.2115 - accuracy: 0.9350\n"
     ]
    },
    {
     "data": {
      "text/plain": [
       "[0.2115073800086975, 0.9350000023841858]"
      ]
     },
     "execution_count": 29,
     "metadata": {},
     "output_type": "execute_result"
    }
   ],
   "source": [
    "model.evaluate(test_x,test_y)"
   ]
  },
  {
   "cell_type": "code",
   "execution_count": null,
   "id": "b94d0dca",
   "metadata": {},
   "outputs": [],
   "source": []
  }
 ],
 "metadata": {
  "kernelspec": {
   "display_name": "Python 3 (ipykernel)",
   "language": "python",
   "name": "python3"
  },
  "language_info": {
   "codemirror_mode": {
    "name": "ipython",
    "version": 3
   },
   "file_extension": ".py",
   "mimetype": "text/x-python",
   "name": "python",
   "nbconvert_exporter": "python",
   "pygments_lexer": "ipython3",
   "version": "3.9.7"
  }
 },
 "nbformat": 4,
 "nbformat_minor": 5
}
